{
  "nbformat": 4,
  "nbformat_minor": 0,
  "metadata": {
    "colab": {
      "provenance": [],
      "authorship_tag": "ABX9TyMOVJ0pwtZTDVs61OpbpErS",
      "include_colab_link": true
    },
    "kernelspec": {
      "name": "python3",
      "display_name": "Python 3"
    },
    "language_info": {
      "name": "python"
    }
  },
  "cells": [
    {
      "cell_type": "markdown",
      "metadata": {
        "id": "view-in-github",
        "colab_type": "text"
      },
      "source": [
        "<a href=\"https://colab.research.google.com/github/Squirrelcoding/parking-meter/blob/main/Cool_project.ipynb\" target=\"_parent\"><img src=\"https://colab.research.google.com/assets/colab-badge.svg\" alt=\"Open In Colab\"/></a>"
      ]
    },
    {
      "cell_type": "code",
      "execution_count": null,
      "metadata": {
        "id": "Cw4T7FkbMfZG"
      },
      "outputs": [],
      "source": [
        "import numpy as np\n",
        "import pandas as pd"
      ]
    },
    {
      "cell_type": "code",
      "source": [
        "!pip3 install OSMPythonTools"
      ],
      "metadata": {
        "colab": {
          "base_uri": "https://localhost:8080/"
        },
        "id": "6PcolLVKP8tD",
        "outputId": "865fd954-3fdb-4646-f92f-91a8c44a1d9a"
      },
      "execution_count": null,
      "outputs": [
        {
          "output_type": "stream",
          "name": "stdout",
          "text": [
            "Requirement already satisfied: OSMPythonTools in /usr/local/lib/python3.11/dist-packages (0.3.5)\n",
            "Requirement already satisfied: beautifulsoup4 in /usr/local/lib/python3.11/dist-packages (from OSMPythonTools) (4.13.4)\n",
            "Requirement already satisfied: geojson in /usr/local/lib/python3.11/dist-packages (from OSMPythonTools) (3.2.0)\n",
            "Requirement already satisfied: lxml in /usr/local/lib/python3.11/dist-packages (from OSMPythonTools) (5.4.0)\n",
            "Requirement already satisfied: matplotlib in /usr/local/lib/python3.11/dist-packages (from OSMPythonTools) (3.10.0)\n",
            "Requirement already satisfied: numpy in /usr/local/lib/python3.11/dist-packages (from OSMPythonTools) (2.0.2)\n",
            "Requirement already satisfied: pandas in /usr/local/lib/python3.11/dist-packages (from OSMPythonTools) (2.2.2)\n",
            "Requirement already satisfied: ujson in /usr/local/lib/python3.11/dist-packages (from OSMPythonTools) (5.10.0)\n",
            "Requirement already satisfied: xarray in /usr/local/lib/python3.11/dist-packages (from OSMPythonTools) (2025.3.1)\n",
            "Requirement already satisfied: soupsieve>1.2 in /usr/local/lib/python3.11/dist-packages (from beautifulsoup4->OSMPythonTools) (2.7)\n",
            "Requirement already satisfied: typing-extensions>=4.0.0 in /usr/local/lib/python3.11/dist-packages (from beautifulsoup4->OSMPythonTools) (4.14.0)\n",
            "Requirement already satisfied: contourpy>=1.0.1 in /usr/local/lib/python3.11/dist-packages (from matplotlib->OSMPythonTools) (1.3.2)\n",
            "Requirement already satisfied: cycler>=0.10 in /usr/local/lib/python3.11/dist-packages (from matplotlib->OSMPythonTools) (0.12.1)\n",
            "Requirement already satisfied: fonttools>=4.22.0 in /usr/local/lib/python3.11/dist-packages (from matplotlib->OSMPythonTools) (4.58.4)\n",
            "Requirement already satisfied: kiwisolver>=1.3.1 in /usr/local/lib/python3.11/dist-packages (from matplotlib->OSMPythonTools) (1.4.8)\n",
            "Requirement already satisfied: packaging>=20.0 in /usr/local/lib/python3.11/dist-packages (from matplotlib->OSMPythonTools) (24.2)\n",
            "Requirement already satisfied: pillow>=8 in /usr/local/lib/python3.11/dist-packages (from matplotlib->OSMPythonTools) (11.2.1)\n",
            "Requirement already satisfied: pyparsing>=2.3.1 in /usr/local/lib/python3.11/dist-packages (from matplotlib->OSMPythonTools) (3.2.3)\n",
            "Requirement already satisfied: python-dateutil>=2.7 in /usr/local/lib/python3.11/dist-packages (from matplotlib->OSMPythonTools) (2.9.0.post0)\n",
            "Requirement already satisfied: pytz>=2020.1 in /usr/local/lib/python3.11/dist-packages (from pandas->OSMPythonTools) (2025.2)\n",
            "Requirement already satisfied: tzdata>=2022.7 in /usr/local/lib/python3.11/dist-packages (from pandas->OSMPythonTools) (2025.2)\n",
            "Requirement already satisfied: six>=1.5 in /usr/local/lib/python3.11/dist-packages (from python-dateutil>=2.7->matplotlib->OSMPythonTools) (1.17.0)\n"
          ]
        }
      ]
    },
    {
      "cell_type": "code",
      "source": [
        "# TODO: Write some code that gets all of the boundaries of a parking lot given its ID or something\n",
        "from OSMPythonTools.api import Api\n",
        "api = Api()\n",
        "way = api.query('way/121049764')"
      ],
      "metadata": {
        "id": "PsBxfPdKQHDZ"
      },
      "execution_count": null,
      "outputs": []
    },
    {
      "cell_type": "code",
      "source": [
        "way.geometry()"
      ],
      "metadata": {
        "id": "_6hwgqmARfOM",
        "outputId": "4ade9c4d-4a4f-4346-d7db-27c6a17569fb",
        "colab": {
          "base_uri": "https://localhost:8080/"
        }
      },
      "execution_count": null,
      "outputs": [
        {
          "output_type": "execute_result",
          "data": {
            "text/plain": [
              "{\"coordinates\": [[[-93.324834, 44.873857], [-93.324769, 44.873876], [-93.324113, 44.873967], [-93.324092, 44.87393], [-93.323842, 44.873987], [-93.323859, 44.874031], [-93.323214, 44.874193], [-93.32319, 44.874152], [-93.322971, 44.874191], [-93.322978, 44.874235], [-93.322468, 44.874299], [-93.321566, 44.874292], [-93.32157, 44.873621], [-93.321573, 44.873537], [-93.321838, 44.873564], [-93.322106, 44.873564], [-93.322204, 44.873542], [-93.32242, 44.873559], [-93.323243, 44.873611], [-93.323578, 44.873646], [-93.323916, 44.87362], [-93.324745, 44.873563], [-93.324761, 44.873583], [-93.324827, 44.873585], [-93.324834, 44.873857]]], \"type\": \"Polygon\"}"
            ]
          },
          "metadata": {},
          "execution_count": 29
        }
      ]
    },
    {
      "cell_type": "markdown",
      "source": [
        "# Setting up Earth Engine"
      ],
      "metadata": {
        "id": "AP8aO_i7G1bI"
      }
    },
    {
      "cell_type": "code",
      "source": [
        "import ee\n",
        "\n",
        "# Trigger the authentication flow.\n",
        "ee.Authenticate()\n",
        "\n",
        "# Initialize the library.\n",
        "ee.Initialize(project='poopnet-4fb22')"
      ],
      "metadata": {
        "id": "Lv55EbdeG3C6"
      },
      "execution_count": null,
      "outputs": []
    },
    {
      "cell_type": "code",
      "source": [
        "# Read in the NEON AOP RGB Camera Image Collection\n",
        "rgb = ee.ImageCollection(\"projects/neon-prod-earthengine/assets/RGB/001\")\n",
        "\n",
        "start_date = ee.Date('2021-01-01')\n",
        "end_date = start_date.advance(1, 'year')\n",
        "rgb2021 = rgb.filterDate(start_date, end_date)\n",
        "rgb2021.filter('NEON_SITE == \"ABBY\"').mosaic()"
      ],
      "metadata": {
        "colab": {
          "base_uri": "https://localhost:8080/"
        },
        "id": "TICkMbZSHP4F",
        "outputId": "7ff641c8-11dc-4715-a027-ff5dd387c608"
      },
      "execution_count": null,
      "outputs": [
        {
          "output_type": "execute_result",
          "data": {
            "text/plain": [
              "<ee.image.Image at 0x7d2523433dd0>"
            ]
          },
          "metadata": {},
          "execution_count": 31
        }
      ]
    },
    {
      "cell_type": "code",
      "source": [
        "import folium"
      ],
      "metadata": {
        "id": "oymBnAksH0y0"
      },
      "execution_count": null,
      "outputs": []
    },
    {
      "cell_type": "code",
      "source": [
        "map = folium.Map(location=[44.873885, -93.322964], zoom_start=15)\n",
        "def add_ee_layer(self, ee_image_object, vis_params, name):\n",
        "  map_id_dict = ee.Image(ee_image_object).getMapId(vis_params)\n",
        "  folium.raster_layers.TileLayer(\n",
        "      tiles = map_id_dict['tile_fetcher'].url_format,\n",
        "      attr = 'Map Data &copy; <a href=\"https://earthengine.google.com/\">Google Earth Engine</a>',\n",
        "      name = name,\n",
        "      overlay = True,\n",
        "      control = True\n",
        "  ).add_to(self)\n",
        "\n",
        "# configuring earth engine display rendering method in folium\n",
        "folium.Map.add_ee_layer = add_ee_layer"
      ],
      "metadata": {
        "id": "MVfR7N2fH1gx"
      },
      "execution_count": null,
      "outputs": []
    },
    {
      "cell_type": "code",
      "source": [
        "dataset = ee.ImageCollection('USDA/NAIP/DOQQ').filter(ee.Filter.date('2020-01-01', '2021-12-31'));\n",
        "rgb = dataset.select(['R', 'G', 'B'])\n",
        "rgb_vis = {\n",
        "    min: 0.0,\n",
        "    max: 255.0\n",
        "}\n",
        "\n",
        "\n",
        "map.add_ee_layer(rgb.min(), rgb_vis, '')\n",
        "\n",
        "map"
      ],
      "metadata": {
        "colab": {
          "base_uri": "https://localhost:8080/",
          "height": 865
        },
        "id": "BRM-N1nUJqcF",
        "outputId": "620adf45-d24f-41e6-9ded-cce8aab29491"
      },
      "execution_count": null,
      "outputs": [
        {
          "output_type": "execute_result",
          "data": {
            "text/plain": [
              "<folium.folium.Map at 0x7d25236e2c10>"
            ],
            "text/html": [
              "<div style=\"width:100%;\"><div style=\"position:relative;width:100%;height:0;padding-bottom:60%;\"><span style=\"color:#565656\">Make this Notebook Trusted to load map: File -> Trust Notebook</span><iframe srcdoc=\"&lt;!DOCTYPE html&gt;\n",
              "&lt;html&gt;\n",
              "&lt;head&gt;\n",
              "    \n",
              "    &lt;meta http-equiv=&quot;content-type&quot; content=&quot;text/html; charset=UTF-8&quot; /&gt;\n",
              "    &lt;script src=&quot;https://cdn.jsdelivr.net/npm/leaflet@1.9.3/dist/leaflet.js&quot;&gt;&lt;/script&gt;\n",
              "    &lt;script src=&quot;https://code.jquery.com/jquery-3.7.1.min.js&quot;&gt;&lt;/script&gt;\n",
              "    &lt;script src=&quot;https://cdn.jsdelivr.net/npm/bootstrap@5.2.2/dist/js/bootstrap.bundle.min.js&quot;&gt;&lt;/script&gt;\n",
              "    &lt;script src=&quot;https://cdnjs.cloudflare.com/ajax/libs/Leaflet.awesome-markers/2.0.2/leaflet.awesome-markers.js&quot;&gt;&lt;/script&gt;\n",
              "    &lt;link rel=&quot;stylesheet&quot; href=&quot;https://cdn.jsdelivr.net/npm/leaflet@1.9.3/dist/leaflet.css&quot;/&gt;\n",
              "    &lt;link rel=&quot;stylesheet&quot; href=&quot;https://cdn.jsdelivr.net/npm/bootstrap@5.2.2/dist/css/bootstrap.min.css&quot;/&gt;\n",
              "    &lt;link rel=&quot;stylesheet&quot; href=&quot;https://netdna.bootstrapcdn.com/bootstrap/3.0.0/css/bootstrap-glyphicons.css&quot;/&gt;\n",
              "    &lt;link rel=&quot;stylesheet&quot; href=&quot;https://cdn.jsdelivr.net/npm/@fortawesome/fontawesome-free@6.2.0/css/all.min.css&quot;/&gt;\n",
              "    &lt;link rel=&quot;stylesheet&quot; href=&quot;https://cdnjs.cloudflare.com/ajax/libs/Leaflet.awesome-markers/2.0.2/leaflet.awesome-markers.css&quot;/&gt;\n",
              "    &lt;link rel=&quot;stylesheet&quot; href=&quot;https://cdn.jsdelivr.net/gh/python-visualization/folium/folium/templates/leaflet.awesome.rotate.min.css&quot;/&gt;\n",
              "    \n",
              "            &lt;meta name=&quot;viewport&quot; content=&quot;width=device-width,\n",
              "                initial-scale=1.0, maximum-scale=1.0, user-scalable=no&quot; /&gt;\n",
              "            &lt;style&gt;\n",
              "                #map_2d7b2f27a6f6a3fc2b54429b9efdb7df {\n",
              "                    position: relative;\n",
              "                    width: 100.0%;\n",
              "                    height: 100.0%;\n",
              "                    left: 0.0%;\n",
              "                    top: 0.0%;\n",
              "                }\n",
              "                .leaflet-container { font-size: 1rem; }\n",
              "            &lt;/style&gt;\n",
              "\n",
              "            &lt;style&gt;html, body {\n",
              "                width: 100%;\n",
              "                height: 100%;\n",
              "                margin: 0;\n",
              "                padding: 0;\n",
              "            }\n",
              "            &lt;/style&gt;\n",
              "\n",
              "            &lt;style&gt;#map {\n",
              "                position:absolute;\n",
              "                top:0;\n",
              "                bottom:0;\n",
              "                right:0;\n",
              "                left:0;\n",
              "                }\n",
              "            &lt;/style&gt;\n",
              "\n",
              "            &lt;script&gt;\n",
              "                L_NO_TOUCH = false;\n",
              "                L_DISABLE_3D = false;\n",
              "            &lt;/script&gt;\n",
              "\n",
              "        \n",
              "&lt;/head&gt;\n",
              "&lt;body&gt;\n",
              "    \n",
              "    \n",
              "            &lt;div class=&quot;folium-map&quot; id=&quot;map_2d7b2f27a6f6a3fc2b54429b9efdb7df&quot; &gt;&lt;/div&gt;\n",
              "        \n",
              "&lt;/body&gt;\n",
              "&lt;script&gt;\n",
              "    \n",
              "    \n",
              "            var map_2d7b2f27a6f6a3fc2b54429b9efdb7df = L.map(\n",
              "                &quot;map_2d7b2f27a6f6a3fc2b54429b9efdb7df&quot;,\n",
              "                {\n",
              "                    center: [44.873885, -93.322964],\n",
              "                    crs: L.CRS.EPSG3857,\n",
              "                    ...{\n",
              "  &quot;zoom&quot;: 15,\n",
              "  &quot;zoomControl&quot;: true,\n",
              "  &quot;preferCanvas&quot;: false,\n",
              "}\n",
              "\n",
              "                }\n",
              "            );\n",
              "\n",
              "            \n",
              "\n",
              "        \n",
              "    \n",
              "            var tile_layer_624ee6122663ce4cec0ad1fdfdd82fa6 = L.tileLayer(\n",
              "                &quot;https://tile.openstreetmap.org/{z}/{x}/{y}.png&quot;,\n",
              "                {\n",
              "  &quot;minZoom&quot;: 0,\n",
              "  &quot;maxZoom&quot;: 19,\n",
              "  &quot;maxNativeZoom&quot;: 19,\n",
              "  &quot;noWrap&quot;: false,\n",
              "  &quot;attribution&quot;: &quot;\\u0026copy; \\u003ca href=\\&quot;https://www.openstreetmap.org/copyright\\&quot;\\u003eOpenStreetMap\\u003c/a\\u003e contributors&quot;,\n",
              "  &quot;subdomains&quot;: &quot;abc&quot;,\n",
              "  &quot;detectRetina&quot;: false,\n",
              "  &quot;tms&quot;: false,\n",
              "  &quot;opacity&quot;: 1,\n",
              "}\n",
              "\n",
              "            );\n",
              "        \n",
              "    \n",
              "            tile_layer_624ee6122663ce4cec0ad1fdfdd82fa6.addTo(map_2d7b2f27a6f6a3fc2b54429b9efdb7df);\n",
              "        \n",
              "    \n",
              "            var tile_layer_a5f1b2850ca90831929a606baef54163 = L.tileLayer(\n",
              "                &quot;https://earthengine.googleapis.com/v1/projects/poopnet-4fb22/maps/59ab095bfb721799b77d1c594062a2de-2d45310ade95a5f43d4cbc0a2f99f94f/tiles/{z}/{x}/{y}&quot;,\n",
              "                {\n",
              "  &quot;minZoom&quot;: 0,\n",
              "  &quot;maxZoom&quot;: 18,\n",
              "  &quot;maxNativeZoom&quot;: 18,\n",
              "  &quot;noWrap&quot;: false,\n",
              "  &quot;attribution&quot;: &quot;Map Data \\u0026copy; \\u003ca href=\\&quot;https://earthengine.google.com/\\&quot;\\u003eGoogle Earth Engine\\u003c/a\\u003e&quot;,\n",
              "  &quot;subdomains&quot;: &quot;abc&quot;,\n",
              "  &quot;detectRetina&quot;: false,\n",
              "  &quot;tms&quot;: false,\n",
              "  &quot;opacity&quot;: 1,\n",
              "}\n",
              "\n",
              "            );\n",
              "        \n",
              "    \n",
              "            tile_layer_a5f1b2850ca90831929a606baef54163.addTo(map_2d7b2f27a6f6a3fc2b54429b9efdb7df);\n",
              "        \n",
              "    \n",
              "            tile_layer_624ee6122663ce4cec0ad1fdfdd82fa6.addTo(map_2d7b2f27a6f6a3fc2b54429b9efdb7df);\n",
              "        \n",
              "    \n",
              "            tile_layer_a5f1b2850ca90831929a606baef54163.addTo(map_2d7b2f27a6f6a3fc2b54429b9efdb7df);\n",
              "        \n",
              "    \n",
              "            var tile_layer_dca7c23341df2ed5b530f05be0f881ef = L.tileLayer(\n",
              "                &quot;https://earthengine.googleapis.com/v1/projects/poopnet-4fb22/maps/4b96af6c8cef0ce61101cd4d7cc982b2-3eb3aa6678acf33fb0a5368aea8f52e6/tiles/{z}/{x}/{y}&quot;,\n",
              "                {\n",
              "  &quot;minZoom&quot;: 0,\n",
              "  &quot;maxZoom&quot;: 18,\n",
              "  &quot;maxNativeZoom&quot;: 18,\n",
              "  &quot;noWrap&quot;: false,\n",
              "  &quot;attribution&quot;: &quot;Map Data \\u0026copy; \\u003ca href=\\&quot;https://earthengine.google.com/\\&quot;\\u003eGoogle Earth Engine\\u003c/a\\u003e&quot;,\n",
              "  &quot;subdomains&quot;: &quot;abc&quot;,\n",
              "  &quot;detectRetina&quot;: false,\n",
              "  &quot;tms&quot;: false,\n",
              "  &quot;opacity&quot;: 1,\n",
              "}\n",
              "\n",
              "            );\n",
              "        \n",
              "    \n",
              "            tile_layer_dca7c23341df2ed5b530f05be0f881ef.addTo(map_2d7b2f27a6f6a3fc2b54429b9efdb7df);\n",
              "        \n",
              "    \n",
              "            var tile_layer_ce30523ff02e6035eda4740f7c1c183c = L.tileLayer(\n",
              "                &quot;https://earthengine.googleapis.com/v1/projects/poopnet-4fb22/maps/4b96af6c8cef0ce61101cd4d7cc982b2-beddea791e99b808f176b589b771fc7b/tiles/{z}/{x}/{y}&quot;,\n",
              "                {\n",
              "  &quot;minZoom&quot;: 0,\n",
              "  &quot;maxZoom&quot;: 18,\n",
              "  &quot;maxNativeZoom&quot;: 18,\n",
              "  &quot;noWrap&quot;: false,\n",
              "  &quot;attribution&quot;: &quot;Map Data \\u0026copy; \\u003ca href=\\&quot;https://earthengine.google.com/\\&quot;\\u003eGoogle Earth Engine\\u003c/a\\u003e&quot;,\n",
              "  &quot;subdomains&quot;: &quot;abc&quot;,\n",
              "  &quot;detectRetina&quot;: false,\n",
              "  &quot;tms&quot;: false,\n",
              "  &quot;opacity&quot;: 1,\n",
              "}\n",
              "\n",
              "            );\n",
              "        \n",
              "    \n",
              "            tile_layer_ce30523ff02e6035eda4740f7c1c183c.addTo(map_2d7b2f27a6f6a3fc2b54429b9efdb7df);\n",
              "        \n",
              "    \n",
              "            tile_layer_624ee6122663ce4cec0ad1fdfdd82fa6.addTo(map_2d7b2f27a6f6a3fc2b54429b9efdb7df);\n",
              "        \n",
              "    \n",
              "            tile_layer_a5f1b2850ca90831929a606baef54163.addTo(map_2d7b2f27a6f6a3fc2b54429b9efdb7df);\n",
              "        \n",
              "    \n",
              "            tile_layer_dca7c23341df2ed5b530f05be0f881ef.addTo(map_2d7b2f27a6f6a3fc2b54429b9efdb7df);\n",
              "        \n",
              "    \n",
              "            tile_layer_ce30523ff02e6035eda4740f7c1c183c.addTo(map_2d7b2f27a6f6a3fc2b54429b9efdb7df);\n",
              "        \n",
              "    \n",
              "            var tile_layer_eeb3ad27c063036dcddd859b52c7214c = L.tileLayer(\n",
              "                &quot;https://earthengine.googleapis.com/v1/projects/poopnet-4fb22/maps/77600901bce7a31010c2763140f3cd65-bba7f50d89f73c56acc6b79887d03480/tiles/{z}/{x}/{y}&quot;,\n",
              "                {\n",
              "  &quot;minZoom&quot;: 0,\n",
              "  &quot;maxZoom&quot;: 18,\n",
              "  &quot;maxNativeZoom&quot;: 18,\n",
              "  &quot;noWrap&quot;: false,\n",
              "  &quot;attribution&quot;: &quot;Map Data \\u0026copy; \\u003ca href=\\&quot;https://earthengine.google.com/\\&quot;\\u003eGoogle Earth Engine\\u003c/a\\u003e&quot;,\n",
              "  &quot;subdomains&quot;: &quot;abc&quot;,\n",
              "  &quot;detectRetina&quot;: false,\n",
              "  &quot;tms&quot;: false,\n",
              "  &quot;opacity&quot;: 1,\n",
              "}\n",
              "\n",
              "            );\n",
              "        \n",
              "    \n",
              "            tile_layer_eeb3ad27c063036dcddd859b52c7214c.addTo(map_2d7b2f27a6f6a3fc2b54429b9efdb7df);\n",
              "        \n",
              "    \n",
              "            tile_layer_624ee6122663ce4cec0ad1fdfdd82fa6.addTo(map_2d7b2f27a6f6a3fc2b54429b9efdb7df);\n",
              "        \n",
              "    \n",
              "            tile_layer_a5f1b2850ca90831929a606baef54163.addTo(map_2d7b2f27a6f6a3fc2b54429b9efdb7df);\n",
              "        \n",
              "    \n",
              "            tile_layer_dca7c23341df2ed5b530f05be0f881ef.addTo(map_2d7b2f27a6f6a3fc2b54429b9efdb7df);\n",
              "        \n",
              "    \n",
              "            tile_layer_ce30523ff02e6035eda4740f7c1c183c.addTo(map_2d7b2f27a6f6a3fc2b54429b9efdb7df);\n",
              "        \n",
              "    \n",
              "            tile_layer_eeb3ad27c063036dcddd859b52c7214c.addTo(map_2d7b2f27a6f6a3fc2b54429b9efdb7df);\n",
              "        \n",
              "    \n",
              "            var tile_layer_a6d5022dea484ab736b64ce5eb9eb372 = L.tileLayer(\n",
              "                &quot;https://earthengine.googleapis.com/v1/projects/poopnet-4fb22/maps/d2d25976636fc3c740b4aa809f428b27-722b841e1fcf248a8da2f513e0f82c20/tiles/{z}/{x}/{y}&quot;,\n",
              "                {\n",
              "  &quot;minZoom&quot;: 0,\n",
              "  &quot;maxZoom&quot;: 18,\n",
              "  &quot;maxNativeZoom&quot;: 18,\n",
              "  &quot;noWrap&quot;: false,\n",
              "  &quot;attribution&quot;: &quot;Map Data \\u0026copy; \\u003ca href=\\&quot;https://earthengine.google.com/\\&quot;\\u003eGoogle Earth Engine\\u003c/a\\u003e&quot;,\n",
              "  &quot;subdomains&quot;: &quot;abc&quot;,\n",
              "  &quot;detectRetina&quot;: false,\n",
              "  &quot;tms&quot;: false,\n",
              "  &quot;opacity&quot;: 1,\n",
              "}\n",
              "\n",
              "            );\n",
              "        \n",
              "    \n",
              "            tile_layer_a6d5022dea484ab736b64ce5eb9eb372.addTo(map_2d7b2f27a6f6a3fc2b54429b9efdb7df);\n",
              "        \n",
              "&lt;/script&gt;\n",
              "&lt;/html&gt;\" style=\"position:absolute;width:100%;height:100%;left:0;top:0;border:none !important;\" allowfullscreen webkitallowfullscreen mozallowfullscreen></iframe></div></div>"
            ]
          },
          "metadata": {},
          "execution_count": 40
        }
      ]
    }
  ]
}